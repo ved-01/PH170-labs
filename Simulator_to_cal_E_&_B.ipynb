{
  "nbformat": 4,
  "nbformat_minor": 0,
  "metadata": {
    "colab": {
      "provenance": [],
      "authorship_tag": "ABX9TyO+0sx0y7knvoSd33ConAbw",
      "include_colab_link": true
    },
    "kernelspec": {
      "name": "python3",
      "display_name": "Python 3"
    },
    "language_info": {
      "name": "python"
    }
  },
  "cells": [
    {
      "cell_type": "markdown",
      "metadata": {
        "id": "view-in-github",
        "colab_type": "text"
      },
      "source": [
        "<a href=\"https://colab.research.google.com/github/ved-01/PH170-labs/blob/main/Simulator_to_cal_E_%26_B.ipynb\" target=\"_parent\"><img src=\"https://colab.research.google.com/assets/colab-badge.svg\" alt=\"Open In Colab\"/></a>"
      ]
    },
    {
      "cell_type": "code",
      "execution_count": 1,
      "metadata": {
        "colab": {
          "base_uri": "https://localhost:8080/"
        },
        "id": "LPd6HtRrhyPf",
        "outputId": "2092819b-6bc9-43a7-c23e-30b0ada89ed4"
      },
      "outputs": [
        {
          "output_type": "stream",
          "name": "stdout",
          "text": [
            "Net Electric Field: [0.07161103 0.2498245  1.32733428]\n"
          ]
        }
      ],
      "source": [
        "import numpy as np\n",
        "\n",
        "class Charge:\n",
        "    def __init__(self, position, charge):\n",
        "        self.position = position\n",
        "        self.charge = charge\n",
        "\n",
        "class LineCharge:\n",
        "    def __init__(self, start, end, charge_density):\n",
        "        self.start = start\n",
        "        self.end = end\n",
        "        self.charge_density = charge_density\n",
        "\n",
        "class SurfaceCharge:\n",
        "    def __init__(self, position, charge_density):\n",
        "        self.position = position\n",
        "        self.charge_density = charge_density\n",
        "\n",
        "class CoordinateSystem:\n",
        "    def __init__(self, basis_vectors):\n",
        "        self.basis_vectors = basis_vectors\n",
        "\n",
        "def calculate_net_field(reference_point, charges, line_charges, surface_charges, coordinate_system):\n",
        "    net_field = np.zeros(3)\n",
        "    for charge in charges:\n",
        "        distance = reference_point - charge.position\n",
        "        field = charge.charge * distance / np.linalg.norm(distance)**3\n",
        "        net_field += field\n",
        "\n",
        "    for line_charge in line_charges:\n",
        "        line_vector = line_charge.end - line_charge.start\n",
        "        length = np.linalg.norm(line_vector)\n",
        "        direction = line_vector / length\n",
        "        for i in range(len(coordinate_system.basis_vectors)):\n",
        "            field = line_charge.charge_density[i] * direction / (2 * np.pi * length)\n",
        "            net_field += field\n",
        "\n",
        "    for surface_charge in surface_charges:\n",
        "        field = surface_charge.charge_density * coordinate_system.basis_vectors[2] / (2 * surface_charge.position[2])\n",
        "        net_field += field\n",
        "\n",
        "    return net_field\n",
        "\n",
        "# Define the charges and their coordinates\n",
        "charges = [\n",
        "    Charge(np.array([1, 0, 0]), 2.5),\n",
        "    Charge(np.array([0, 2, 0]), -1.7),\n",
        "    Charge(np.array([-2, 0, 0]), 3.8)\n",
        "]\n",
        "\n",
        "line_charges = [\n",
        "    LineCharge(np.array([0, 0, 0]), np.array([0, 0, 2]), [4.2, -2.3, 1.8])\n",
        "]\n",
        "\n",
        "surface_charges = [\n",
        "    SurfaceCharge(np.array([0, 0, 3]), 5.6)\n",
        "]\n",
        "\n",
        "# Define the coordinate system\n",
        "coordinate_system = CoordinateSystem([\n",
        "    np.array([1, 0, 0]),\n",
        "    np.array([0, 1, 0]),\n",
        "    np.array([0, 0, 1])\n",
        "])\n",
        "\n",
        "# Define the reference point\n",
        "reference_point = np.array([2, 2, 2])\n",
        "\n",
        "# Calculate the net electric field at the reference point\n",
        "net_field = calculate_net_field(reference_point, charges, line_charges, surface_charges, coordinate_system)\n",
        "\n",
        "# Print the net electric field\n",
        "print(\"Net Electric Field:\", net_field)\n"
      ]
    }
  ]
}