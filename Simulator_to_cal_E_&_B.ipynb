{
  "nbformat": 4,
  "nbformat_minor": 0,
  "metadata": {
    "colab": {
      "provenance": [],
      "authorship_tag": "ABX9TyNlfixWu5pExQrLCibJwJPT",
      "include_colab_link": true
    },
    "kernelspec": {
      "name": "python3",
      "display_name": "Python 3"
    },
    "language_info": {
      "name": "python"
    }
  },
  "cells": [
    {
      "cell_type": "markdown",
      "metadata": {
        "id": "view-in-github",
        "colab_type": "text"
      },
      "source": [
        "<a href=\"https://colab.research.google.com/github/ved-01/PH170-labs/blob/main/Simulator_to_cal_E_%26_B.ipynb\" target=\"_parent\"><img src=\"https://colab.research.google.com/assets/colab-badge.svg\" alt=\"Open In Colab\"/></a>"
      ]
    },
    {
      "cell_type": "code",
      "execution_count": 4,
      "metadata": {
        "colab": {
          "base_uri": "https://localhost:8080/"
        },
        "id": "LPd6HtRrhyPf",
        "outputId": "07f7950f-7583-4134-d27b-5616ad8e91e7"
      },
      "outputs": [
        {
          "output_type": "stream",
          "name": "stdout",
          "text": [
            "Enter the number of point charges: 1\n",
            "Enter the coordinates of the point charge (x, y, z): 1 2 3\n",
            "Enter the charge of the point charge: 2\n",
            "Enter the number of line charges: 1\n",
            "Enter the start coordinates of the line charge (x1, y1, z1): 2 2 2\n",
            "Enter the end coordinates of the line charge (x2, y2, z2): 3 3 3\n",
            "Enter the charge density of the line charge: 2\n",
            "Enter the number of surface charges: 1\n",
            "Enter the coordinates of the surface charge (x, y, z): 4 4 4\n",
            "Enter the charge density of the surface charge: 3\n",
            "Enter the coordinates of the reference point (x, y, z): 4 3 2\n",
            "Net Electric Field: [0.27056403 0.16092354 0.42628305]\n"
          ]
        }
      ],
      "source": [
        "import numpy as np\n",
        "\n",
        "class Charge:\n",
        "    def __init__(self, position, charge):\n",
        "        self.position = position\n",
        "        self.charge = charge\n",
        "\n",
        "class LineCharge:\n",
        "    def __init__(self, start, end, charge_density):\n",
        "        self.start = start\n",
        "        self.end = end\n",
        "        self.charge_density = charge_density\n",
        "\n",
        "class SurfaceCharge:\n",
        "    def __init__(self, position, charge_density):\n",
        "        self.position = position\n",
        "        self.charge_density = charge_density\n",
        "\n",
        "def calculate_net_field(reference_point, charges, line_charges, surface_charges):\n",
        "    net_field = np.zeros(3)\n",
        "    for charge in charges:\n",
        "        distance = reference_point - charge.position\n",
        "        field = charge.charge * distance / np.linalg.norm(distance)**3\n",
        "        net_field += field\n",
        "\n",
        "    for line_charge in line_charges:\n",
        "        line_vector = line_charge.end - line_charge.start\n",
        "        length = np.linalg.norm(line_vector)\n",
        "        direction = line_vector / length\n",
        "        field = line_charge.charge_density * direction / (2 * np.pi * length)\n",
        "        net_field += field\n",
        "\n",
        "    for surface_charge in surface_charges:\n",
        "        field = surface_charge.charge_density * np.array([0, 0, 1]) / (2 * surface_charge.position[2])\n",
        "        net_field += field\n",
        "\n",
        "    return net_field\n",
        "\n",
        "# Get the number of charges from the user\n",
        "num_charges = int(input(\"Enter the number of point charges: \"))\n",
        "\n",
        "# Define lists to store the charges, line charges, and surface charges\n",
        "charges = []\n",
        "line_charges = []\n",
        "surface_charges = []\n",
        "\n",
        "# Get the point charges from the user\n",
        "for _ in range(num_charges):\n",
        "    x, y, z = map(float, input(\"Enter the coordinates of the point charge (x, y, z): \").split())\n",
        "    charge = float(input(\"Enter the charge of the point charge: \"))\n",
        "    charges.append(Charge(np.array([x, y, z]), charge))\n",
        "\n",
        "# Get the number of line charges from the user\n",
        "num_line_charges = int(input(\"Enter the number of line charges: \"))\n",
        "\n",
        "# Get the line charges from the user\n",
        "for _ in range(num_line_charges):\n",
        "    x1, y1, z1 = map(float, input(\"Enter the start coordinates of the line charge (x1, y1, z1): \").split())\n",
        "    x2, y2, z2 = map(float, input(\"Enter the end coordinates of the line charge (x2, y2, z2): \").split())\n",
        "    charge_density = float(input(\"Enter the charge density of the line charge: \"))\n",
        "    line_charges.append(LineCharge(np.array([x1, y1, z1]), np.array([x2, y2, z2]), charge_density))\n",
        "\n",
        "# Get the number of surface charges from the user\n",
        "num_surface_charges = int(input(\"Enter the number of surface charges: \"))\n",
        "\n",
        "# Get the surface charges from the user\n",
        "for _ in range(num_surface_charges):\n",
        "    x, y, z = map(float, input(\"Enter the coordinates of the surface charge (x, y, z): \").split())\n",
        "    charge_density = float(input(\"Enter the charge density of the surface charge: \"))\n",
        "    surface_charges.append(SurfaceCharge(np.array([x, y, z]), charge_density))\n",
        "\n",
        "# Get the coordinates of the reference point from the user\n",
        "ref_x, ref_y, ref_z = map(float, input(\"Enter the coordinates of the reference point (x, y, z): \").split())\n",
        "reference_point = np.array([ref_x, ref_y, ref_z])\n",
        "\n",
        "# Calculate the net electric field at the reference point\n",
        "net_field = calculate_net_field(reference_point, charges, line_charges, surface_charges)\n",
        "\n",
        "# Print the net electric field\n",
        "print(\"Net Electric Field:\", net_field)\n"
      ]
    }
  ]
}