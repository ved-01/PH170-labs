{
  "cells": [
    {
      "cell_type": "markdown",
      "metadata": {
        "colab_type": "text",
        "id": "view-in-github"
      },
      "source": [
        "<a href=\"https://colab.research.google.com/github/ved-01/PH170-labs/blob/main/Layered_E_B.ipynb\" target=\"_parent\"><img src=\"https://colab.research.google.com/assets/colab-badge.svg\" alt=\"Open In Colab\"/></a>"
      ]
    },
    {
      "cell_type": "code",
      "execution_count": 5,
      "metadata": {
        "colab": {
          "base_uri": "https://localhost:8080/"
        },
        "id": "bEijAbTJe0ph",
        "outputId": "8aa3b704-79dc-4d1d-e211-f91b1d53967b"
      },
      "outputs": [
        {
          "name": "stdout",
          "output_type": "stream",
          "text": [
            "Electric Fields:\n",
            "electric Layer: [0.00205361 0.         0.        ]\n",
            "\n",
            "Magnetic Fields:\n",
            "magnetic Layer: [-0.00254779  0.00152867  0.00203823]\n",
            "\n",
            "Net Field: [nan nan nan]\n"
          ]
        },
        {
          "name": "stderr",
          "output_type": "stream",
          "text": [
            "<ipython-input-5-7a98e0e6534f>:22: RuntimeWarning: invalid value encountered in true_divide\n",
            "  field = magnitude * position / (4 * np.pi * epsilon * distance**3)  # Electric field formula\n"
          ]
        }
      ],
      "source": [
        "import numpy as np\n",
        "\n",
        "def calculate_field(layers, positions, magnitudes, epsilon_values, mu_values):\n",
        "    num_layers = len(layers)\n",
        "    net_field = np.zeros(3)  \n",
        "    electric_fields = {}\n",
        "    magnetic_fields = {}\n",
        "\n",
        "    for i in range(num_layers):\n",
        "        layer = layers[i]\n",
        "        position = positions[i]\n",
        "        magnitude = magnitudes[i]\n",
        "        epsilon = epsilon_values[i]\n",
        "        mu = mu_values[i]\n",
        "\n",
        "        distance = np.linalg.norm(position)\n",
        "\n",
        "        if layer == 'electric':\n",
        "            field = magnitude * position / (4 * np.pi * epsilon * distance**3) \n",
        "            electric_fields[layer] = field\n",
        "        elif layer == 'magnetic':\n",
        "            field = (mu * magnitude) / (4 * np.pi * distance**3)  \n",
        "            magnetic_fields[layer] = field\n",
        "\n",
        "        net_field += field\n",
        "\n",
        "    return electric_fields, magnetic_fields, net_field\n",
        "\n",
        "# Constants\n",
        "mu0 = 4 * np.pi * 10**-7  \n",
        "\n",
        "\n",
        "layers = ['electric', 'electric', 'magnetic', 'electric']\n",
        "positions = [np.inf, np.array([0, -2, 0]), np.array([-2, -5, 0]), np.array([-5, 0, 0])]\n",
        "magnitudes = [np.array([-2, 7, 6]), np.array([0, 0, 0]), np.array([-5, 3, 4]), np.array([-2, 7, 6])]\n",
        "epsilon_values = [1, 3.6, 2.9, 3.1]  \n",
        "mu_values = [1, 2.3, 1, 2.1]\n",
        "\n",
        "electric_fields, magnetic_fields, net_field = calculate_field(layers, positions, magnitudes, epsilon_values, mu_values)\n",
        "\n",
        "print(\"Electric Fields:\")\n",
        "for layer, field in electric_fields.items():\n",
        "    print(f\"{layer} Layer: {field}\")\n",
        "\n",
        "print(\"\\nMagnetic Fields:\")\n",
        "for layer, field in magnetic_fields.items():\n",
        "    print(f\"{layer} Layer: {field}\")\n",
        "\n",
        "print(\"\\nNet Field:\", net_field)\n"
      ]
    }
  ],
  "metadata": {
    "colab": {
      "authorship_tag": "ABX9TyMnJmWEbz7+ta6TZp35Y88a",
      "include_colab_link": true,
      "provenance": []
    },
    "kernelspec": {
      "display_name": "Python 3",
      "name": "python3"
    },
    "language_info": {
      "name": "python"
    }
  },
  "nbformat": 4,
  "nbformat_minor": 0
}
